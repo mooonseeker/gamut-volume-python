{
 "cells": [
  {
   "cell_type": "code",
   "execution_count": null,
   "metadata": {},
   "outputs": [],
   "source": [
    "import numpy as np\n",
    "import matplotlib.pyplot as plt\n",
    "import cgats\n",
    "import make_gamut_envelope\n",
    "import make_tesselation\n",
    "import get_volume\n",
    "import plot_rings\n",
    "\n",
    "make_gamut_envelope.make_gamut_envelope(\n",
    "    \"./Reference_sRGB_IEC_61966-2.1_Synthetic_XYZ_surface10.txt\",\n",
    "    \"./Reference_sRGB_IEC_61966-2.1_gamut_envelope.txt\",\n",
    ")\n",
    "envelope = \"./Reference_sRGB_IEC_61966-2.1_gamut_envelope.txt\"\n",
    "plt.close(\"all\")\n",
    "volume = get_volume.get_volume(envelope)\n",
    "plot_rings.plot_rings(envelope)"
   ]
  },
  {
   "cell_type": "code",
   "execution_count": null,
   "metadata": {},
   "outputs": [],
   "source": [
    "color_data = cgats.readCGATS(envelope)\n",
    "LAB = np.array([color_data[\"LAB_L\"], color_data[\"LAB_A\"], color_data[\"LAB_B\"]]).T\n",
    "fig = plt.figure()\n",
    "ax = fig.add_subplot(111, projection=\"3d\")\n",
    "ax.scatter(LAB[:, 2], LAB[:, 1], LAB[:, 0])\n",
    "ax.set_xlabel(\"b*\")\n",
    "ax.set_ylabel(\"a*\")\n",
    "ax.set_zlabel(\"L*\")\n",
    "\n",
    "ax.set_xlim(ax.get_xlim()[::-1])\n",
    "ax.view_init(elev=30, azim=30)\n",
    "plt.show()"
   ]
  }
 ],
 "metadata": {
  "kernelspec": {
   "display_name": "Python 3",
   "language": "python",
   "name": "python3"
  },
  "language_info": {
   "codemirror_mode": {
    "name": "ipython",
    "version": 3
   },
   "file_extension": ".py",
   "mimetype": "text/x-python",
   "name": "python",
   "nbconvert_exporter": "python",
   "pygments_lexer": "ipython3",
   "version": "3.12.3"
  }
 },
 "nbformat": 4,
 "nbformat_minor": 2
}
