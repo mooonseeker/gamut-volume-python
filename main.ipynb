{
 "cells": [
  {
   "cell_type": "code",
   "execution_count": null,
   "metadata": {},
   "outputs": [],
   "source": [
    "import numpy as np\n",
    "import matplotlib.pyplot as plt\n",
    "import cgats\n",
    "import make_gamut_envelope\n",
    "import plot_rings\n",
    "\n",
    "make_gamut_envelope.make_gamut_envelope(\n",
    "    \"./data/Samsung_S22_XYZ.txt\", \"./data/Samsung_S22_CAM16-UCS.txt\", \"CAM16-UCS\"\n",
    ")\n",
    "envelope = \"./data/Samsung_S22_CAM16-UCS.txt\"\n",
    "envelope_ref = \"./data/DCI-P3_CAM16UCS.txt\"\n",
    "plt.close(\"all\")\n",
    "plot_rings.plot_rings(envelope, envelope_ref)"
   ]
  },
  {
   "cell_type": "code",
   "execution_count": null,
   "metadata": {},
   "outputs": [],
   "source": [
    "fig = plt.figure()\n",
    "ax = fig.add_subplot(111, projection=\"3d\")\n",
    "\n",
    "color_data = cgats.readCGATS(envelope)\n",
    "LAB = np.array([color_data[\"LAB_L\"], color_data[\"LAB_A\"], color_data[\"LAB_B\"]]).T\n",
    "ax.scatter(LAB[:, 2], LAB[:, 1], LAB[:, 0], \"red\")\n",
    "\n",
    "color_data_ref = cgats.readCGATS(envelope_ref)\n",
    "LAB_ref = np.array(\n",
    "    [color_data_ref[\"LAB_L\"], color_data_ref[\"LAB_A\"], color_data_ref[\"LAB_B\"]]\n",
    ").T\n",
    "ax.scatter(LAB_ref[:, 2], LAB_ref[:, 1], LAB_ref[:, 0], \"blue\")\n",
    "\n",
    "ax.set_xlabel(\"b*\")\n",
    "ax.set_ylabel(\"a*\")\n",
    "ax.set_zlabel(\"L*\")\n",
    "\n",
    "ax.set_xlim(ax.get_xlim()[::-1])\n",
    "ax.view_init(elev=30, azim=30)\n",
    "plt.show()"
   ]
  }
 ],
 "metadata": {
  "kernelspec": {
   "display_name": "Python 3",
   "language": "python",
   "name": "python3"
  },
  "language_info": {
   "codemirror_mode": {
    "name": "ipython",
    "version": 3
   },
   "file_extension": ".py",
   "mimetype": "text/x-python",
   "name": "python",
   "nbconvert_exporter": "python",
   "pygments_lexer": "ipython3",
   "version": "3.12.8"
  }
 },
 "nbformat": 4,
 "nbformat_minor": 2
}
